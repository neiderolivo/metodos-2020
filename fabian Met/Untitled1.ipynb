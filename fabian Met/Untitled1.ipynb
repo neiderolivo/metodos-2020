{
 "cells": [
  {
   "cell_type": "markdown",
   "metadata": {},
   "source": [
    "Método de Euler: \"Velocidad experimentada por un paracaidista en caida libre\""
   ]
  },
  {
   "cell_type": "code",
   "execution_count": null,
   "metadata": {},
   "outputs": [],
   "source": [
    "import numpy as np\n",
    "import matplotlib.pyplot as plt\n",
    "from matplotlib import style\n",
    "style.use('ggplot')\n",
    "\n",
    "\n",
    "g=9.81\n",
    "m=68.1\n",
    "c=12.5\n",
    "\n",
    "def dvdt(t,v):\n",
    "    return (c/m)*v-g\n",
    "\n",
    "n=20\n",
    "to=0\n",
    "tf=20\n",
    "vo=0\n",
    "h=(tf-to)/n\n",
    "t=[to]\n",
    "v=[vo]\n",
    "\n",
    "for i in range(n):\n",
    "    vo=vo+h*dvdt(to,vo)\n",
    "    v.append(vo)\n",
    "    to=to+h\n",
    "    t.append(t)\n",
    "\n",
    "print(t)\n",
    "print(v)\n",
    "\n",
    "\n"
   ]
  },
  {
   "cell_type": "code",
   "execution_count": null,
   "metadata": {},
   "outputs": [],
   "source": []
  },
  {
   "cell_type": "code",
   "execution_count": null,
   "metadata": {},
   "outputs": [],
   "source": []
  }
 ],
 "metadata": {
  "kernelspec": {
   "display_name": "Python 3",
   "language": "python",
   "name": "python3"
  },
  "language_info": {
   "codemirror_mode": {
    "name": "ipython",
    "version": 3
   },
   "file_extension": ".py",
   "mimetype": "text/x-python",
   "name": "python",
   "nbconvert_exporter": "python",
   "pygments_lexer": "ipython3",
   "version": "3.7.3"
  }
 },
 "nbformat": 4,
 "nbformat_minor": 2
}
